{
 "cells": [
  {
   "cell_type": "markdown",
   "metadata": {},
   "source": [
    "1.Write a program that uses a while loop (not a for loop) to read through a string and print the characters of the string one-by-one on separate lines."
   ]
  },
  {
   "cell_type": "code",
   "execution_count": 1,
   "metadata": {},
   "outputs": [
    {
     "name": "stdout",
     "output_type": "stream",
     "text": [
      "Enter a String redwan\n",
      "r\n",
      "e\n",
      "d\n",
      "w\n",
      "a\n",
      "n\n"
     ]
    }
   ],
   "source": [
    "m=input(\"Enter a String \")\n",
    "count=0\n",
    "while count<len(m):\n",
    "    print(m[count])\n",
    "    count=count+1"
   ]
  },
  {
   "cell_type": "markdown",
   "metadata": {},
   "source": [
    "2.Modify the program above to print out every second character of the string."
   ]
  },
  {
   "cell_type": "code",
   "execution_count": 2,
   "metadata": {},
   "outputs": [
    {
     "name": "stdout",
     "output_type": "stream",
     "text": [
      "Enter a String redwan\n",
      "e\n",
      "w\n",
      "n\n"
     ]
    }
   ],
   "source": [
    "m=input(\"Enter a String \")\n",
    "count=0\n",
    "while count<len(m):\n",
    "    if count%2==1:\n",
    "        print(m[count])\n",
    "    count=count+1"
   ]
  },
  {
   "cell_type": "markdown",
   "metadata": {},
   "source": [
    "3.Write a program that asks the user to enter a password. If the user enters the right password, the program should tell them they are logged in to the system. Otherwise, the program should ask them to reenter the password. The user should only get five tries to enter the password, after which point the program should tell them that they are kicked off of the system."
   ]
  },
  {
   "cell_type": "code",
   "execution_count": 5,
   "metadata": {},
   "outputs": [
    {
     "name": "stdout",
     "output_type": "stream",
     "text": [
      "Enter Passward pass\n",
      "ReEnter Passward 123\n",
      "ReEnter Passward 123right\n",
      "You are Logged in to Your System!!!\n"
     ]
    }
   ],
   "source": [
    "def Login(check):\n",
    "    if check=='123right':  #Password\n",
    "        return 1\n",
    "\n",
    "count=0\n",
    "result=0   # assume Passward is incorrect\n",
    "check_point=5\n",
    "\n",
    "s=input('Enter Passward ')\n",
    "while count<check_point-1:\n",
    "    result=Login(s)\n",
    "    if result==1:\n",
    "        break\n",
    "    count=count+1\n",
    "    s=input('ReEnter Passward ')\n",
    "\n",
    "if result==1:\n",
    "    print('You are Logged in to Your System!!!')\n",
    "else:\n",
    "    print('You are Kicked off of the System.')"
   ]
  },
  {
   "cell_type": "markdown",
   "metadata": {},
   "source": [
    "4.Recall that, given a string s , s.index( ' x ' ) returns the index of the first x in s and an error if there is no x.\n",
    "\n",
    "(a) Write a program that asks the user for a string and a letter. Using a while loop, the program should print the index of the first occurrence of that letter and a message if the string does not contain the letter.\n"
   ]
  },
  {
   "cell_type": "code",
   "execution_count": 6,
   "metadata": {},
   "outputs": [
    {
     "name": "stdout",
     "output_type": "stream",
     "text": [
      "Enter a String redwan\n",
      "Enter a Letter w\n",
      "First occurance of w is in the position 4\n"
     ]
    }
   ],
   "source": [
    "string=input('Enter a String ')\n",
    "letter=input('Enter a Letter ')\n",
    "count=0\n",
    "result=0  # initially no match\n",
    "\n",
    "while count<len(string) and result!=1:\n",
    "    if string[count]==letter:\n",
    "        result=1\n",
    "        index=count        # index of letter\n",
    "    count=count+1\n",
    "\n",
    "if result==1:\n",
    "    print('First occurance of',letter,'is in the position',index+1)\n",
    "else:\n",
    "    print('No match for',letter)"
   ]
  },
  {
   "cell_type": "markdown",
   "metadata": {},
   "source": [
    "b. Write the above program using a for/break loop instead of a while loop."
   ]
  },
  {
   "cell_type": "code",
   "execution_count": 7,
   "metadata": {},
   "outputs": [
    {
     "name": "stdout",
     "output_type": "stream",
     "text": [
      "Enter a String redwanulhassan\n",
      "Enter a Letter s\n",
      "First occurance of s is in the position 11\n"
     ]
    }
   ],
   "source": [
    "string=input('Enter a String ')\n",
    "letter=input('Enter a Letter ')\n",
    "result=0  # initially no match\n",
    "count=1\n",
    "\n",
    "for ch in string:\n",
    "    if ch==letter:\n",
    "        result=1\n",
    "        break\n",
    "    count=count+1\n",
    "\n",
    "if result==1:\n",
    "    print('First occurance of',letter,'is in the position',count)\n",
    "else:\n",
    "    print('No match for',letter)"
   ]
  },
  {
   "cell_type": "markdown",
   "metadata": {},
   "source": [
    "5.The GCD (greatest common divisor) of two numbers is the largest number that both are di- visible by. For instance, gcd (18, 42) is 6 because the largest number that both 18 and 42 are divisible by is 6. Write a program that asks the user for two numbers and computes their gcd. Shown below is a way to compute the GCD, called Euclid’s Algorithm.\n",
    "\n",
    " • First compute the remainder of dividing the larger number by the smaller number\n",
    "\n",
    " • Next, replace the larger number with the smaller number and the smaller number with the remainder.\n",
    "\n",
    " • Repeat this process until the smaller number is 0. The GCD is the last value of the larger number."
   ]
  },
  {
   "cell_type": "code",
   "execution_count": 8,
   "metadata": {},
   "outputs": [
    {
     "name": "stdout",
     "output_type": "stream",
     "text": [
      "Enter a number 10\n",
      "Enter a number 54\n",
      "the GED of 10 and 54 is 2\n"
     ]
    }
   ],
   "source": [
    "num1=input('Enter a number ')\n",
    "num1=int(num1)\n",
    "num2=input('Enter a number ')\n",
    "num2=int(num2)\n",
    "\n",
    "if num1>num2:\n",
    "    big=num1\n",
    "    small=num2\n",
    "else:\n",
    "    big=num2\n",
    "    small=num1\n",
    "\n",
    "remainder=big%small\n",
    "big=small\n",
    "small=remainder\n",
    "while small!=0:\n",
    "    remainder=big%small\n",
    "    big=small\n",
    "    small=remainder\n",
    "print('the GED of',num1,'and',num2,'is',big)"
   ]
  },
  {
   "cell_type": "markdown",
   "metadata": {},
   "source": [
    "\n",
    "\n",
    "6.A 4000-year old method to compute the square root of 5 is as follows: Start with an initial guess, say 1. Then compute\n",
    "\n",
    "(1 + 5/1 )/2 = 3\n",
    " Next, take that 3 and replace the 1’s in the previous formula with 3’s . This gives\n",
    "\n",
    " (3 + 5/3 )/2 = 7/3 = 2.33\n",
    "\n",
    " Next replace the 3 in the previous formula with 7/3 . This gives\n",
    "\n",
    " (7/3 + 5/(7/3) )/2 = 47/22 = 2.24\n",
    "\n",
    "If you keep doing this process of computing the formula, getting a result, and plugging it back in, the values will eventually get closer and closer to 5 . This method works for numbers other than 5. Write a program that asks the user for a number and uses this method to estimate the square root of the number correct to within 10^( −10) . The estimate will be correct to within 10^( −10) when the absolute value of the difference between consecutive values is less than 10^(−10) .\n",
    "\n"
   ]
  },
  {
   "cell_type": "code",
   "execution_count": 9,
   "metadata": {},
   "outputs": [
    {
     "name": "stdout",
     "output_type": "stream",
     "text": [
      "Enter a Number: 14\n",
      "\n",
      "3.74\n"
     ]
    }
   ],
   "source": [
    "number = float(input(\"Enter a Number: \")) \n",
    "i = 1 # initial guess \n",
    "\n",
    "while i >= 0: \n",
    "    j = i\n",
    "    i = (i + number / i) / 2\n",
    "    if j == i: \n",
    "        break \n",
    "\n",
    "print(\"\\n%.2f\"%i)"
   ]
  },
  {
   "cell_type": "markdown",
   "metadata": {},
   "source": [
    "7.Write a program that starts with an 5 × 5 list of zeroes and randomly changes exactly ten of those zeroes to ones."
   ]
  },
  {
   "cell_type": "code",
   "execution_count": 10,
   "metadata": {},
   "outputs": [
    {
     "name": "stdout",
     "output_type": "stream",
     "text": [
      "Initial List  [[0, 0, 0, 0, 0], [0, 0, 0, 0, 0], [0, 0, 0, 0, 0], [0, 0, 0, 0, 0], [0, 0, 0, 0, 0]]\n",
      "List with 10 random 1's  [[1, 0, 0, 0, 0], [0, 0, 1, 0, 1], [0, 1, 0, 0, 0], [1, 0, 1, 1, 1], [0, 1, 0, 0, 1]]\n"
     ]
    }
   ],
   "source": [
    "mylist=[[0,0,0,0,0],[0,0,0,0,0],[0,0,0,0,0],[0,0,0,0,0],[0,0,0,0,0]]\n",
    "print('Initial List ',mylist)\n",
    "count=1\n",
    "\n",
    "while count<=10:\n",
    "    import random\n",
    "    z=random.randint(0,4)\n",
    "    y=random.randint(0,4)\n",
    "    if mylist[y][z]==0:\n",
    "        mylist[y][z]=1\n",
    "        count=count+1\n",
    "\n",
    "print(\"List with 10 random 1's \",mylist)"
   ]
  },
  {
   "cell_type": "markdown",
   "metadata": {},
   "source": [
    "8.Write a program in which you have a list that contains seven integers that can be 0 or 1. Find the first nonzero entry in the list and change it to a 1. If there are no nonzero entries, print a message saying so"
   ]
  },
  {
   "cell_type": "code",
   "execution_count": 11,
   "metadata": {},
   "outputs": [
    {
     "name": "stdout",
     "output_type": "stream",
     "text": [
      "Enter int contain 0 or 1 1\n",
      "Enter int contain 0 or 1 1\n",
      "Enter int contain 0 or 1 1\n",
      "Enter int contain 0 or 1 1234\n",
      "Enter int contain 0 or 1 234\n",
      "Enter int contain 0 or 1 0\n",
      "Enter int contain 0 or 1 0\n",
      "Input List [1, 1, 1, 1234, 234, 0, 0]\n",
      "Output List [1, 1, 1, 1234, 234, 0, 0]\n"
     ]
    }
   ],
   "source": [
    "my_list=[0]*7 #creating List of seven intigers\n",
    "\n",
    "count=0\n",
    "while count<7:\n",
    "    my_list[count]=input('Enter int contain 0 or 1 ')\n",
    "    my_list[count]=int(my_list[count])\n",
    "    count=count+1\n",
    "print('Input List',my_list)\n",
    "\n",
    "count=0\n",
    "check=0\n",
    "while count<7 and check==0:\n",
    "    if my_list[count]!=0:\n",
    "        my_list[count]=1\n",
    "        check=1    #finding first non zero int\n",
    "    count=count+1\n",
    "\n",
    "if check==1:\n",
    "    print('Output List',my_list)\n",
    "else:\n",
    "    print('No Non Zero int in the List')"
   ]
  },
  {
   "cell_type": "markdown",
   "metadata": {},
   "source": [
    "9.Write a program to play the following simple game. The player starts with \\$100.On each turn a coin is flipped and the player has to guess heads or tails.The player wins \\$9 for each correct guess and loses \\$10 for each incorrect guess.The game ends either when the player runs out of money or gets to \\$200."
   ]
  },
  {
   "cell_type": "code",
   "execution_count": 12,
   "metadata": {},
   "outputs": [
    {
     "name": "stdout",
     "output_type": "stream",
     "text": [
      "Starts with $25 and wins when $50\n",
      "write \"H\" for head or \"T\" for tail T\n",
      "Wrong Guess... New Balance 15\n",
      "write \"H\" for head or \"T\" for tail H\n",
      "Right Guess!!! New Balance 24\n",
      "write \"H\" for head or \"T\" for tail T\n",
      "Wrong Guess... New Balance 14\n",
      "write \"H\" for head or \"T\" for tail H\n",
      "Wrong Guess... New Balance 4\n",
      "write \"H\" for head or \"T\" for tail T\n",
      "Right Guess!!! New Balance 13\n",
      "write \"H\" for head or \"T\" for tail H\n",
      "Wrong Guess... New Balance 3\n",
      "write \"H\" for head or \"T\" for tail T\n",
      "Wrong Guess... New Balance -7\n",
      "Better Luck Next time...\n"
     ]
    }
   ],
   "source": [
    "balance=25  #100\n",
    "\n",
    "def Guess(ans,my_balance):\n",
    "    import random\n",
    "    z=random.randint(0,1)\n",
    "    if ans==z:\n",
    "        my_balance=my_balance+9\n",
    "        print('Right Guess!!! New Balance',my_balance)\n",
    "    else:\n",
    "        my_balance=my_balance-10\n",
    "        print('Wrong Guess... New Balance',my_balance)\n",
    "    return my_balance\n",
    "\n",
    "print('Starts with $25 and wins when $50')\n",
    "while balance>0 and balance<50:  #balance<200\n",
    "    s=input('write \"H\" for head or \"T\" for tail ')\n",
    "    if s=='H':\n",
    "        check=Guess(0,balance)  # 0 for head\n",
    "    elif s=='T':\n",
    "        check=Guess(1,balance)  # 1 for tail\n",
    "    balance=check\n",
    "\n",
    "if balance>=50:          #200\n",
    "    print('Congrats!!!')\n",
    "else:\n",
    "    print('Better Luck Next time...')"
   ]
  },
  {
   "cell_type": "markdown",
   "metadata": {},
   "source": [
    "10.Randomly generate a 6 × 6 list that has exactly 12 ones placed in random locations in the list. The rest of the entries should be zeroes."
   ]
  },
  {
   "cell_type": "code",
   "execution_count": 13,
   "metadata": {},
   "outputs": [
    {
     "name": "stdout",
     "output_type": "stream",
     "text": [
      "List with 12 1\"s  [[0, 0, 0, 0, 0, 0], [1, 1, 1, 0, 1, 0], [1, 0, 0, 1, 0, 0], [0, 1, 0, 1, 0, 0], [0, 0, 1, 0, 1, 0], [1, 0, 0, 0, 0, 1]]\n"
     ]
    }
   ],
   "source": [
    "my_list= [[0,0,0,0,0,0], [0,0,0,0,0,0], [0,0,0,0,0,0], [0,0,0,0,0,0], [0,0,0,0,0,0], [0,0,0,0,0,0]]\n",
    "count=1\n",
    "\n",
    "while count<=12:\n",
    "    import random\n",
    "    z=random.randint(0,5)\n",
    "    y=random.randint(0,5)\n",
    "    if my_list[y][z]==0:\n",
    "        my_list[y][z]=1\n",
    "        count=count+1\n",
    "print('List with 12 1\"s ',my_list)"
   ]
  },
  {
   "cell_type": "markdown",
   "metadata": {},
   "source": [
    "11.Randomly generate a 9 × 9 list where the entries are integers between 1 and 9 with no repeat entries in any row or in any column."
   ]
  },
  {
   "cell_type": "code",
   "execution_count": 23,
   "metadata": {},
   "outputs": [
    {
     "name": "stdout",
     "output_type": "stream",
     "text": [
      "[[0, 0, 0, 0, 0, 0, 0, 0, 0], [0, 0, 0, 0, 0, 0, 0, 0, 0], [0, 0, 0, 0, 0, 0, 0, 0, 0], [0, 0, 0, 0, 0, 0, 0, 0, 0], [0, 0, 0, 0, 0, 0, 0, 0, 0], [0, 0, 0, 0, 0, 0, 0, 0, 0], [0, 0, 0, 0, 0, 0, 0, 0, 0], [0, 0, 0, 0, 0, 0, 0, 0, 0], [0, 0, 0, 0, 0, 0, 0, 0, 0]]\n"
     ]
    }
   ],
   "source": [
    "my_list=[[0]*9, [0]*9, [0]*9, [0]*9, [0]*9, [0]*9, [0]*9, [0]*9, [0]*9]\n",
    "#print(my_list)"
   ]
  },
  {
   "cell_type": "markdown",
   "metadata": {},
   "source": [
    "12.Write a program that repeatedly asks the user to enter product names and prices. Store all of these in a dictionary whose keys are the product names and whose values are the prices. When the user is done entering products and prices, allow them to repeatedly enter a product name and print the corresponding price or a message if the product is not in the dictionary."
   ]
  },
  {
   "cell_type": "code",
   "execution_count": 24,
   "metadata": {},
   "outputs": [
    {
     "name": "stdout",
     "output_type": "stream",
     "text": [
      "Enter Product Name: redwan\n",
      "Enter Product Prize: 12\n",
      "Press \"Y\" to add more OR \"N\" to finish: Y\n",
      "Enter Product Name: rice\n",
      "Enter Product Prize: 67\n",
      "Press \"Y\" to add more OR \"N\" to finish: Y\n",
      "Enter Product Name: ciggarate\n",
      "Enter Product Prize: 240\n",
      "Press \"Y\" to add more OR \"N\" to finish: N\n",
      "Enter Product Name: gvjh\n",
      "gvjh is not in the Dictionary\n",
      "Press \"Y\" to search again OR \"N\" to finish: N\n"
     ]
    }
   ],
   "source": [
    "ch=\"Y\"\n",
    "dic={}\n",
    "\n",
    "while ch=='Y':\n",
    "    p_n=input('Enter Product Name: ')\n",
    "    p_pr=input('Enter Product Prize: ')\n",
    "    dic[p_n]=p_pr\n",
    "    ch=input('Press \"Y\" to add more OR \"N\" to finish: ')\n",
    "\n",
    "ch=\"Y\"\n",
    "while ch==\"Y\":\n",
    "    a=input('Enter Product Name: ')\n",
    "    if a in dic:\n",
    "        print('Price of',a,'is:',dic[a])\n",
    "    else:\n",
    "        print(a,'is not in the Dictionary')\n",
    "    ch=input('Press \"Y\" to search again OR \"N\" to finish: ')"
   ]
  },
  {
   "cell_type": "markdown",
   "metadata": {},
   "source": [
    "13.Using the dictionary created in the previous problem, allow the user to enter a dollar amount and print out all the products whose price is less than that amount."
   ]
  },
  {
   "cell_type": "code",
   "execution_count": 25,
   "metadata": {},
   "outputs": [
    {
     "name": "stdout",
     "output_type": "stream",
     "text": [
      "Enter Product Name: cocacola\n",
      "Enter Product Prize: 20\n",
      "Press \"Y\" to add more OR \"N\" to finish: Y\n",
      "Enter Product Name: kemei\n",
      "Enter Product Prize: 2000\n",
      "Press \"Y\" to add more OR \"N\" to finish: N\n",
      "Enter a Doller amount: 16\n",
      "No product exists in the Dictionary Price less than 16\n"
     ]
    }
   ],
   "source": [
    "ch=\"Y\"\n",
    "dic={}\n",
    "\n",
    "while ch=='Y':\n",
    "    p_n=input('Enter Product Name: ')\n",
    "    p_pr=input('Enter Product Prize: ')\n",
    "    dic[p_n]=p_pr\n",
    "    ch=input('Press \"Y\" to add more OR \"N\" to finish: ')\n",
    "\n",
    "n=input('Enter a Doller amount: ')\n",
    "n=int(n)  #string to int\n",
    "c=0  #to check if required product exists\n",
    "\n",
    "for p in dic:\n",
    "    if int(dic[p])<n:  #type casting as the dictionary value is string\n",
    "        print(p,':',dic[p])\n",
    "        c=c+1\n",
    "if c==0:\n",
    "    print('No product exists in the Dictionary Price less than',n)"
   ]
  },
  {
   "cell_type": "markdown",
   "metadata": {},
   "source": [
    "14.Write a program that uses a dictionary that contains ten user names and passwords. The program should ask the user to enter their username and password. If the username is not in the dictionary, the program should indicate that the person is not a valid user of the system. If the username is in the dictionary, but the user does not enter the right password, the program should say that the password is invalid. If the password is correct, then the program should tell the user that they are now logged in to the system."
   ]
  },
  {
   "cell_type": "code",
   "execution_count": 27,
   "metadata": {},
   "outputs": [
    {
     "name": "stdout",
     "output_type": "stream",
     "text": [
      "Enter User Name: Tonni\n",
      "Enter Password: 201514149\n",
      "Login Successfull !!!\n"
     ]
    }
   ],
   "source": [
    "dic={'Abul':122112, 'Mofij': 13156910, 'Samanta': 19113114201, \n",
    "     'Nishan': 149198114, 'Hridoy': 818941525, 'Rubi': 182129, 'Swift': 19239620, \n",
    "     'Rumi': 1821139, 'Supto': 1921162015, 'Tonni': 201514149}\n",
    "\n",
    "u_n=input('Enter User Name: ')\n",
    "p_w=input('Enter Password: ')\n",
    "p_w=int(p_w)\n",
    "               # string comparison isn't working.   have to type cast in int\n",
    "if u_n in dic:\n",
    "    if int(dic[u_n])==p_w:\n",
    "        print('Login Successfull !!!')\n",
    "    else:\n",
    "        print('Invalid Password...')\n",
    "else:\n",
    "    print('You are Not a valid User...')"
   ]
  },
  {
   "cell_type": "markdown",
   "metadata": {},
   "source": [
    "15.Using the card dictionary from earlier in this chapter, create a simple card game that deals two players three cards each. The player with the highest card wins. If there is a tie, then compare the second highest card and, if necessary, the third highest. If all three cards have the same value, then the game is a draw."
   ]
  },
  {
   "cell_type": "code",
   "execution_count": 28,
   "metadata": {},
   "outputs": [
    {
     "name": "stdout",
     "output_type": "stream",
     "text": [
      "Player_1 Cards: \n",
      "spades : 6\n",
      "diamonds : 8\n",
      "hearts : 4\n",
      "\n",
      "Player_2 Cards: \n",
      "diamonds : 3\n",
      "clubs : 7\n",
      "spades : 8\n",
      "Player_2 Wins!!!\n"
     ]
    }
   ],
   "source": [
    "deck = [{ 'value': i, 'suit': c}\n",
    "for c in [ 'spades' , 'clubs', 'hearts', 'diamonds']\n",
    "for i in range(2,15)]\n",
    "\n",
    "random.shuffle(deck)   # to shuffle the cards\n",
    "#print(deck[check]['value'])\n",
    "#print(deck[check]['suit'])\n",
    "\n",
    "p_1=[0]*3\n",
    "p_2=[0]*3\n",
    "\n",
    "check=0\n",
    "c=0\n",
    "print('Player_1 Cards: ')\n",
    "while check<6:\n",
    "    if check%2==0:\n",
    "        print(deck[check]['suit'],':',deck[check]['value'])\n",
    "        p_1[c]=int(deck[check]['value'])\n",
    "        c=c+1\n",
    "    check=check+1\n",
    "\n",
    "print()\n",
    "check=0\n",
    "c=0\n",
    "print('Player_2 Cards: ')\n",
    "while check<6:\n",
    "    if check%2!=0:\n",
    "        print(deck[check]['suit'],':',deck[check]['value'])\n",
    "        p_2[c]=int(deck[check]['value'])\n",
    "        c=c+1\n",
    "    check=check+1\n",
    "    \n",
    "res_1=sorted(p_1, reverse=True)\n",
    "res_2=sorted(p_2, reverse=True)\n",
    "\n",
    "res=0   # No soln\n",
    "c=0     # three cards c<3\n",
    "while res==0 and c<3:\n",
    "    if res_1[c]!=res_2[c]:\n",
    "        if res_1[c]>res_2[c]:\n",
    "            print('Player_1 Wins!!!')\n",
    "        else:\n",
    "            print('Player_2 Wins!!!')\n",
    "        res=1\n",
    "    c=c+1\n",
    "\n",
    "if c==0:\n",
    "    print('Draw!!!!!!!')"
   ]
  },
  {
   "cell_type": "markdown",
   "metadata": {},
   "source": [
    "16.Using the card dictionary from earlier in the chapter, deal out three cards. Determine the following: (a) If the three cards form a flush (all of the same suit) (b) If there is a three-of-a-kind (all of the same value) (c) If there is a pair, but not three-of-a-kind (d) If the three cards form a straight (all in a row, like (2, 3, 4) or (10, Jack, Queen))"
   ]
  },
  {
   "cell_type": "code",
   "execution_count": 29,
   "metadata": {},
   "outputs": [
    {
     "name": "stdout",
     "output_type": "stream",
     "text": [
      "Cards: \n",
      "clubs : 4\n",
      "diamonds : 4\n",
      "diamonds : 9\n",
      "Pair\n"
     ]
    }
   ],
   "source": [
    "\n",
    "\n",
    "deck = [{ 'value': i, 'suit': c}\n",
    "for c in [ 'spades' , 'clubs', 'hearts', 'diamonds']\n",
    "for i in range(2,15)]\n",
    "\n",
    "random.shuffle(deck)   # to shuffle the cards\n",
    "p_1=[0]*3              # value '2' of clubs\n",
    "p_2=['s']*3            # suit 2 of \"clubs\"\n",
    "\n",
    "check=0\n",
    "print('Cards: ')\n",
    "while check<3:\n",
    "    print(deck[check]['suit'],':',deck[check]['value'])\n",
    "    p_1[check]=int(deck[check]['value'])\n",
    "    p_2[check]=deck[check]['suit']\n",
    "    check=check+1\n",
    "\n",
    "\n",
    "p_1=sorted(p_1, reverse=True)  # 10, 9, 7\n",
    "    \n",
    "if p_1[0]==p_1[1]==p_1[2]:\n",
    "    print('Three of A Kind')\n",
    "elif p_2[0]==p_2[1]==p_2[2]:\n",
    "    if p_1[0]==p_1[1]+1 and p_1[0]==p_1[2]+2:\n",
    "        print('Straight Flush')\n",
    "    else:\n",
    "        print('Flush')\n",
    "elif p_1[0]==p_1[1] or p_1[0]==p_1[2] or p_1[2]==p_1[1]:\n",
    "    print('Pair')\n",
    "elif p_1[0]==p_1[1]+1 and p_1[0]==p_1[2]+2:\n",
    "        print('Straight')\n",
    "else:\n",
    "    print('High Card :',p_1[0])\n",
    "\n"
   ]
  },
  {
   "cell_type": "markdown",
   "metadata": {},
   "source": [
    "17.Below are the notes used in music: C C# D D# E F F# G G# A A# B The notes for the C major chord are C, E, G. A mathematical way to get this is that E is 4 steps past C and G is 7 steps past C. This works for any base. For example, the notes for D major are D, F#, A. We can represent the major chord steps as a list with two elements: [4,7] . The corresponding lists for some other chord types are shown below:\n",
    "\n",
    "Minor [3,7]\n",
    "\n",
    "Augmented fifth [4,8]\n",
    "\n",
    "Minor fifth [4,6]\n",
    "\n",
    "Major sixth [4,7,9]\n",
    "\n",
    "Minor sixth [3,7,9]\n",
    "\n",
    "Dominant seventh [4,7,10]\n",
    "\n",
    "Minor seventh [3,7,10]\n",
    "\n",
    "Major seventh [4,7,11]\n",
    "\n",
    "Diminished seventh [3,6,10]\n",
    "\n",
    "Write a program that asks the user for the key and the chord type and prints out the notes of the chord. Use a dictionary whose keys are the (musical) keys and whose values are the lists of steps.\n"
   ]
  },
  {
   "cell_type": "code",
   "execution_count": 30,
   "metadata": {},
   "outputs": [
    {
     "name": "stdout",
     "output_type": "stream",
     "text": [
      "Cord types are : Minor, Augmented fifth, Minor fifth, Major sixth, Minor sixth\n",
      " \t\tDominant seventh, Minor seventh, Major seventh, Diminished seventh\n",
      "Enter Key: D\n",
      "Enter Cord Type: Minor\n",
      "D F A\n"
     ]
    }
   ],
   "source": [
    "my_note=['C', 'C#', 'D', 'D#', 'E', 'F', 'F#', 'G', 'G#', 'A', 'A#', 'B']\n",
    "\n",
    "print('Cord types are : Minor, Augmented fifth, Minor fifth, Major sixth, Minor sixth\\n \\t\\tDominant seventh, Minor seventh, Major seventh, Diminished seventh')\n",
    "key=input('Enter Key: ')\n",
    "cord_type=input('Enter Cord Type: ')\n",
    "\n",
    "i=0\n",
    "while i<12:\n",
    "    if my_note[i]==key:\n",
    "        break\n",
    "    i=i+1\n",
    "\n",
    "if cord_type=='Minor':\n",
    "    print(my_note[i],my_note[i+3],my_note[(i+7)%11])\n",
    "elif cord_type=='Augmented fifth':\n",
    "    print(my_note[i],my_note[i+4],my_note[(i+8)%11])\n",
    "elif cord_type=='Minor fifth':\n",
    "    print(my_note[i],my_note[i+4],my_note[(i+6)%11])\n",
    "elif cord_type=='Major sixth':\n",
    "    print(my_note[i],my_note[i+4],my_note[(i+7)%11], my_note[(i+9)%11])\n",
    "elif cord_type=='Dominant seventh':\n",
    "    print(my_note[i],my_note[i+4],my_note[(i+7)%11], my_note[(i+10)%11])\n",
    "elif cord_type=='Minor seventh':\n",
    "    print(my_note[i],my_note[i+3],my_note[(i+7)%11], my_note[(i+10)%11])\n",
    "elif cord_type=='Major seventh':\n",
    "    print(my_note[i],my_note[i+4],my_note[(i+7)%11],my_note[(i+11)%11])\n",
    "elif cord_type=='Diminished seventh':\n",
    "    print(my_note[i],my_note[i+3],my_note[(i+6)%11], my_note[(i+10)%11])\n",
    "elif cord_type=='Minor sixth':\n",
    "    print(my_note[i],my_note[i+3],my_note[(i+7)%11], my_note[(i+9)%11])"
   ]
  },
  {
   "cell_type": "markdown",
   "metadata": {},
   "source": [
    "18. Suppose you are given the following list of strings:\n",
    "\n",
    "L = [ ' aabaabac ' , ' cabaabca ' , ' aaabbcba ' , ' aabacbab ' , ' acababba ' ]\n",
    "\n",
    "Patterns like this show up in many places, including DNA sequencing. The user has a string of their own with only some letters filled in and the rest as asterisks. An example is aa** . The user would like to know which of the strings in the list fit with their pattern. In the example just given, the matching strings are the first and fourth. One way to solve this problem is to create a dictionary whose keys are the indices in the user’s string of the non-asterisk characters and whose values are those characters. Write a program implementing this approach (or some other approach) to find the strings that match a user-entered string.\n"
   ]
  },
  {
   "cell_type": "code",
   "execution_count": null,
   "metadata": {},
   "outputs": [
    {
     "name": "stdout",
     "output_type": "stream",
     "text": [
      "Enter string with one * :aabaabac\n"
     ]
    }
   ],
   "source": [
    "L = [ 'aabaabac' , 'cabaabca' , 'aaabbcba' , 'aabacbab' , 'acababba' ] \n",
    "\n",
    "s=input(\"Enter string with one * :\")\n",
    "\n",
    "i=0\n",
    "check=0\n",
    "while i<5:\n",
    "    check=0\n",
    "    m=0\n",
    "    if s[m]==L[i][m]:\n",
    "        check=1\n",
    "        m=m+1\n",
    "        while m<len(s)-1 and check==1:\n",
    "            if s[m]!=L[i][m]:\n",
    "                check=0\n",
    "        m=m+1\n",
    "    if check==1:\n",
    "        print(L[i])\n",
    "    i=i+1\n",
    "\n",
    "if check==0:\n",
    "    print('No Match')\n",
    "\n"
   ]
  },
  {
   "cell_type": "markdown",
   "metadata": {},
   "source": [
    "19.Dictionaries provide a convenient way to store structured data. Here is an example dictionary:\n",
    "\n",
    "d=[{ ' name ' : ' Todd ' , ' phone ' : ' 555-1414 ' , ' email ' : ' todd@mail.net ' }, { ' name ' : ' Helga ' , ' phone ' : ' 555-1618 ' , ' email ' : ' helga@mail.net ' }, { ' name ' : ' Princess ' , ' phone ' : ' 555-3141 ' , ' email ' : '' }, { ' name ' : ' LJ ' , ' phone ' : ' 555-2718 ' , ' email ' : ' lj@mail.net ' }]\n",
    "\n",
    "Write a program that reads through any dictionary like this and prints the following:\n",
    "\n",
    "(a) All the users whose phone number ends in an 8\n",
    "\n",
    "(b) All the users that don’t have an email address listed\n"
   ]
  },
  {
   "cell_type": "code",
   "execution_count": 1,
   "metadata": {},
   "outputs": [
    {
     "name": "stdout",
     "output_type": "stream",
     "text": [
      "All the users whose phone number ends in an 8\n",
      "{' name ': ' Helga ', ' phone ': ' 555-1618 ', ' email ': ' helga@mail.net '}\n",
      "{' name ': ' LJ ', ' phone ': ' 555-2718 ', ' email ': ' lj@mail.net '}\n",
      "\n",
      "All the users that don’t have an email address listed\n",
      "{' name ': ' Princess ', ' phone ': ' 555-3141 ', ' email ': ''}\n"
     ]
    }
   ],
   "source": [
    "d=[{ ' name ' : ' Todd ' , ' phone ' : ' 555-1414 ' , ' email ' : ' todd@mail.net ' }, \n",
    "   { ' name ' : ' Helga ' , ' phone ' : ' 555-1618 ' , ' email ' : ' helga@mail.net ' }, \n",
    "   { ' name ' : ' Princess ' , ' phone ' : ' 555-3141 ' , ' email ' : '' }, \n",
    "   { ' name ' : ' LJ ' , ' phone ' : ' 555-2718 ' , ' email ' : ' lj@mail.net ' }]\n",
    "#print(d[2][' email '])\n",
    "#a=''\n",
    "#print(len(a))\n",
    "\n",
    "print('All the users whose phone number ends in an 8')\n",
    "i=0\n",
    "for a in d:\n",
    "    n=d[i][' phone ']\n",
    "    if n[-2]=='8':\n",
    "        print(d[i])\n",
    "    i=i+1\n",
    "\n",
    "print('\\nAll the users that don’t have an email address listed')\n",
    "i=0\n",
    "for a in d:\n",
    "    n=d[i][' email ']\n",
    "    if len(n)==0:\n",
    "        print(d[i])\n",
    "    i=i+1"
   ]
  }
 ],
 "metadata": {
  "kernelspec": {
   "display_name": "Python 3",
   "language": "python",
   "name": "python3"
  },
  "language_info": {
   "codemirror_mode": {
    "name": "ipython",
    "version": 3
   },
   "file_extension": ".py",
   "mimetype": "text/x-python",
   "name": "python",
   "nbconvert_exporter": "python",
   "pygments_lexer": "ipython3",
   "version": "3.7.0"
  }
 },
 "nbformat": 4,
 "nbformat_minor": 2
}
